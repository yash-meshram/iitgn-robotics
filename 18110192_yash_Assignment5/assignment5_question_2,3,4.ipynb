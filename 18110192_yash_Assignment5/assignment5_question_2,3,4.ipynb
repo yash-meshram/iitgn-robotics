{
 "cells": [
  {
   "cell_type": "markdown",
   "id": "31d6025a",
   "metadata": {},
   "source": [
    "# Yash Meshram (18110192)\n",
    "\n",
    "# Assignment-5"
   ]
  },
  {
   "cell_type": "code",
   "execution_count": null,
   "id": "4de73a7b",
   "metadata": {},
   "outputs": [],
   "source": []
  },
  {
   "cell_type": "markdown",
   "id": "f1cfc21f",
   "metadata": {},
   "source": [
    "# question 2"
   ]
  },
  {
   "cell_type": "code",
   "execution_count": 1,
   "id": "1540bd66",
   "metadata": {},
   "outputs": [],
   "source": [
    "import math\n",
    "import numpy as np\n",
    "\n",
    "def deg(theta):\n",
    "    rad = (math.pi/180)*theta\n",
    "    return rad\n",
    "\n",
    "def cos(q):\n",
    "    return math.cos(deg(q))\n",
    "\n",
    "def sin(q):\n",
    "    return math.sin(deg(q))\n",
    "\n",
    "def atan(q1, q2):\n",
    "    return (180/math.pi)*math.atan(q1/q2)"
   ]
  },
  {
   "cell_type": "code",
   "execution_count": 2,
   "id": "da98ec1c",
   "metadata": {},
   "outputs": [],
   "source": [
    "# Inputs\n",
    "n = 3                                     # Number of links\n",
    "s = 'RRP'                                 # Type of joints\n",
    "\n",
    "l1 = 10    # m\n",
    "l2 = 10    # m\n",
    "q_1 = 30    # deg.\n",
    "q_2 = 45    # deg.\n",
    "d_  =  5    # m\n",
    "m1 =  5    # kg\n",
    "m2 =  5    # kg\n",
    "m3 =  3    # kg"
   ]
  },
  {
   "cell_type": "code",
   "execution_count": 3,
   "id": "aabcaabc",
   "metadata": {},
   "outputs": [],
   "source": [
    "from sympy import * \n",
    "\n",
    "q1, q2, d = symbols('q1 q2 d')\n",
    "\n",
    "x1 = np.array([[   0  ],\n",
    "               [   0  ],\n",
    "               [ l1/2 ]])\n",
    "\n",
    "x2 = np.array([[ (l2/2)*cos(q2)*cos(q1) ],\n",
    "               [ (l2/2)*cos(q2)*sin(q1) ],\n",
    "               [    l1 + (l2/2)*sin(q2) ]])\n",
    "\n",
    "x3 = np.array([[ (l2 + d/2)*cos(q2)*cos(q1) ],\n",
    "               [ (l2 + d/2)*cos(q2)*sin(q1) ],\n",
    "               [    l1 + (l2 + d/2)*sin(q2) ]]) "
   ]
  },
  {
   "cell_type": "code",
   "execution_count": 4,
   "id": "03c81692",
   "metadata": {},
   "outputs": [],
   "source": [
    "Jv1 = np.zeros((3, 3))\n",
    "Jv2 = np.zeros((3, 3))\n",
    "Jv3 = np.zeros((3, 3))\n",
    "\n",
    "p1 = []\n",
    "p2 = []\n",
    "p3 = []\n",
    "\n",
    "q_1_ = q_1*np.pi/180    # deg.\n",
    "q_2_ = q_2*np.pi/180    # deg.\n",
    "\n",
    "for i in range(len(x1)):\n",
    "    f = Derivative(x1[i][0], q1).doit()\n",
    "    f1 = lambdify(q1, f)\n",
    "    Jv1[i][0] = f1(q_1_)\n",
    "    p_1 = np.append([], [f, 0, 0])\n",
    "    p1.append(p_1)\n",
    "    \n",
    "    f = Derivative(x2[i][0], q1).doit()\n",
    "    f1 = lambdify([q1, q2], f)\n",
    "    Jv2[i][0] = f1(q_1_, q_2_)\n",
    "    \n",
    "    f_ = Derivative(x2[i][0], q2).doit()\n",
    "    f1 = lambdify([q1, q2], f_)\n",
    "    Jv2[i][1] = f1(q_1_, q_2_)\n",
    "    p_2 = np.append([], [f, f_, 0])\n",
    "    p2.append(p_2)\n",
    "    \n",
    "    f = Derivative(x3[i][0], q1).doit()\n",
    "    f1 = lambdify([q1, q2, d], f)\n",
    "    Jv3[i][0] = f1(q_1_, q_2_, d_)\n",
    "    \n",
    "    f_ = Derivative(x3[i][0], q2).doit()\n",
    "    f1 = lambdify([q1, q2, d], f_)\n",
    "    Jv3[i][1] = f1(q_1_, q_2_, d_)\n",
    "    \n",
    "    f__ = Derivative(x3[i][0], d).doit()\n",
    "    f1 = lambdify([q1, q2, d], f__)\n",
    "    Jv3[i][2] = f1(q_1_, q_2_, d_)\n",
    "    p_3 = np.append([], [f, f_, f__])\n",
    "    p3.append(p_3)\n",
    "\n",
    "p1 = np.array(p1)\n",
    "p2 = np.array(p2)\n",
    "p3 = np.array(p3)"
   ]
  },
  {
   "cell_type": "code",
   "execution_count": 5,
   "id": "03eab415",
   "metadata": {},
   "outputs": [],
   "source": [
    "# w1 = q1_dot*k\n",
    "# w2 = -q2_dot*j + q1_dot*k\n",
    "# w3 = -q2_dot*j + q1_dot*k"
   ]
  },
  {
   "cell_type": "code",
   "execution_count": 6,
   "id": "6443a621",
   "metadata": {},
   "outputs": [],
   "source": [
    "a1 = np.array([[0, 0, 0],\n",
    "               [0, 0, 0],\n",
    "               [1, 0, 0]])\n",
    "\n",
    "a2 = np.array([[0,  0, 0],\n",
    "               [0, -1, 0],\n",
    "               [1,  0, 0]])\n",
    "\n",
    "a3 = np.array([[0,  0,  0],\n",
    "               [0, -1,  0],\n",
    "               [1,  0,  0]])\n",
    "\n",
    "a1 = np.dot(np.transpose(a1), a1)\n",
    "a2 = np.dot(np.transpose(a2), a2)\n",
    "a3 = np.dot(np.transpose(a3), a3)\n",
    "\n",
    "I1 = 0      # approxly zero\n",
    "I2 = (1/3)*m2*l2\n",
    "I3 = 0\n",
    "\n",
    "I = I1*a1 + I2*a2 + I3*a3\n",
    "\n",
    "D_ = m1*Jv1 + m2*Jv2 + m3*Jv3 + I\n",
    "D = m1*p1 + m2*p2 + m3*p3 + I"
   ]
  },
  {
   "cell_type": "code",
   "execution_count": 7,
   "id": "bd226887",
   "metadata": {},
   "outputs": [],
   "source": [
    "q = [q1, q2, d]\n",
    "def C(i, j, k):\n",
    "    i = i-1\n",
    "    j = j-1\n",
    "    k = k-1\n",
    "    \n",
    "    c1 = Derivative(D[k,j], q[i]).doit()\n",
    "    c2 = Derivative(D[k,i], q[j]).doit()\n",
    "    c3 = Derivative(D[i,j], q[k]).doit()\n",
    "    \n",
    "    C = (1/2)*(c1 + c2 - c3)\n",
    "    f1 = lambdify([q1, q2, d], C)\n",
    "    return C"
   ]
  },
  {
   "cell_type": "code",
   "execution_count": 8,
   "id": "e5db595e",
   "metadata": {},
   "outputs": [],
   "source": [
    "g = 9.81   # m/s\n",
    "V = m1*g*(l1/2) + m2*g*(l1 + (l2/2)*sin(q2)) + m3*g*(l1 + (l2 + d/2)*sin(q2))"
   ]
  },
  {
   "cell_type": "code",
   "execution_count": 9,
   "id": "3894e1ec",
   "metadata": {},
   "outputs": [],
   "source": [
    "def Phi(V, q):\n",
    "    phi_1 = Derivative(V, q[0]).doit()\n",
    "    phi_2 = Derivative(V, q[1]).doit()\n",
    "    phi_3 = Derivative(V, q[2]).doit()\n",
    "\n",
    "    phi_ = [phi_1, phi_2, phi_3]\n",
    "    return phi_\n",
    "\n",
    "phi = Phi(V, q)"
   ]
  },
  {
   "cell_type": "code",
   "execution_count": 10,
   "id": "05439091",
   "metadata": {},
   "outputs": [],
   "source": [
    "t = symbols('t')\n",
    "def T(i):\n",
    "    if i > 3 or i < 1:\n",
    "        return \"Insert number from 1 to \"+str(n)\n",
    "    i = i-1\n",
    "    d_term = 0\n",
    "    for j in range(n):\n",
    "        d_term = d_term + D[i, j]*Derivative(q[j], (t, 2))\n",
    "    c_term = 0\n",
    "    for j in range(n):\n",
    "        for k in range(n):\n",
    "            c_term = c_term + C(j+1, k+1, i+1)*Derivative(q[j], t)*Derivative(q[k], t)\n",
    "    phi_term = phi[i]\n",
    "    \n",
    "    T_ = d_term + c_term + phi_term\n",
    "    return T_"
   ]
  },
  {
   "cell_type": "code",
   "execution_count": 11,
   "id": "301670dc",
   "metadata": {},
   "outputs": [
    {
     "name": "stdout",
     "output_type": "stream",
     "text": [
      "T1 = \n",
      " (-1.5*sin(q2)*cos(q1) - 0.75*cos(q1)*cos(q2))*Derivative(d, t)*Derivative(q2, t) + (-0.5*(-3*d/2 - 30)*sin(q1)*sin(q2) + 12.5*sin(q1)*sin(q2))*Derivative(q1, t)*Derivative(q2, t) + (0.5*(-3*d/2 - 30)*cos(q1)*cos(q2) - 12.5*cos(q1)*cos(q2))*Derivative(q1, t)**2 + (-3*(d/2 + 10)*sin(q2)*cos(q1) - 25.0*sin(q2)*cos(q1))*Derivative(q2, (t, 2)) + (-3*(d/2 + 10)*sin(q1)*cos(q2) - 25.0*sin(q1)*cos(q2) + 16.6666666666667)*Derivative(q1, (t, 2)) + (-1.0*(-3*d/2 - 30)*sin(q1)*sin(q2) + 0.5*(3*d/2 + 30)*sin(q1)*cos(q2) + 25.0*sin(q1)*sin(q2) + 12.5*sin(q1)*cos(q2))*Derivative(q1, t)*Derivative(q2, t) + (-0.5*(-3*d/2 - 30)*sin(q2)*cos(q1) + 1.0*(-3*d/2 - 30)*cos(q1)*cos(q2) + 12.5*sin(q2)*cos(q1) - 25.0*cos(q1)*cos(q2))*Derivative(q2, t)**2 - 2.25*sin(q1)*cos(q2)*Derivative(d, t)*Derivative(q1, t) - 1.5*sin(q2)*cos(q1)*Derivative(d, t)*Derivative(q2, t) + 3*cos(q1)*cos(q2)*Derivative(d, (t, 2))/2 \n",
      "\n",
      "T2 = \n",
      " (14.715*d + 294.3)*cos(q2) + (0.75*sin(q2)*cos(q1) + 1.5*cos(q1)*cos(q2))*Derivative(d, t)*Derivative(q1, t) + (0.5*(-3*d/2 - 30)*sin(q1)*cos(q2) - 12.5*sin(q1)*cos(q2))*Derivative(q2, t)**2 + (0.5*(-3*d/2 - 30)*sin(q2)*cos(q1) - 12.5*sin(q2)*cos(q1))*Derivative(q1, t)*Derivative(q2, t) + (3*(d/2 + 10)*cos(q1)*cos(q2) + 25.0*cos(q1)*cos(q2))*Derivative(q1, (t, 2)) + (0.5*(3*d/2 + 30)*sin(q2) - 1.5*sin(q1)*sin(q2) + 12.5*sin(q2))*Derivative(d, t)*Derivative(q2, t) + (-3*(d/2 + 10)*sin(q1)*sin(q2) - 25.0*sin(q1)*sin(q2) + 16.6666666666667)*Derivative(q2, (t, 2)) + (0.5*(-3*d/2 - 30)*sin(q1)*sin(q2) - 1.0*(3*d/2 + 30)*sin(q1)*cos(q2) - 12.5*sin(q1)*sin(q2) - 25.0*sin(q1)*cos(q2))*Derivative(q1, t)**2 + (0.5*(-3*d/2 - 30)*sin(q2)*cos(q1) - 0.5*(-3*d/2 - 30)*cos(q1)*cos(q2) - 0.5*(3*d/2 + 30)*sin(q2)*cos(q1) - 25.0*sin(q2)*cos(q1) + 12.5*cos(q1)*cos(q2))*Derivative(q1, t)*Derivative(q2, t) - 0.75*sin(q1)*sin(q2)*Derivative(d, t)*Derivative(q2, t) + 3*sin(q1)*cos(q2)*Derivative(d, (t, 2))/2 + 1.5*cos(q1)*cos(q2)*Derivative(d, t)*Derivative(q1, t) - 0.75*cos(q2)*Derivative(d, t)**2 + 245.25*cos(q2) \n",
      "\n",
      "T3 = \n",
      " (3*(d/2 + 10)*cos(q2) + 25.0*cos(q2))*Derivative(q2, (t, 2)) + (-1.0*(3*d/2 + 30)*sin(q2) + 0.75*sin(q1)*sin(q2) - 25.0*sin(q2))*Derivative(q2, t)**2 + 0.75*sin(q1)*cos(q2)*Derivative(q1, t)**2 + 0.75*sin(q2)*cos(q1)*Derivative(q1, t)*Derivative(q2, t) + 3*sin(q2)*Derivative(d, (t, 2))/2 + 14.715*sin(q2) - 0.75*cos(q1)*cos(q2)*Derivative(q1, t)*Derivative(q2, t) + 2.25*cos(q2)*Derivative(d, t)*Derivative(q2, t)\n"
     ]
    }
   ],
   "source": [
    "T1 = T(1)\n",
    "T2 = T(2)\n",
    "T3 = T(3)\n",
    "\n",
    "print(\"T1 = \\n\", T1, \"\\n\")\n",
    "print(\"T2 = \\n\", T2, \"\\n\")\n",
    "print(\"T3 = \\n\", T3)"
   ]
  },
  {
   "cell_type": "code",
   "execution_count": null,
   "id": "a329f0f0",
   "metadata": {},
   "outputs": [],
   "source": []
  },
  {
   "cell_type": "code",
   "execution_count": 30,
   "id": "73492003",
   "metadata": {},
   "outputs": [],
   "source": [
    "import control.matlab as control\n",
    "import matplotlib.pyplot as plt\n",
    "%matplotlib inline"
   ]
  },
  {
   "cell_type": "code",
   "execution_count": 13,
   "id": "68ff9694",
   "metadata": {},
   "outputs": [
    {
     "name": "stdout",
     "output_type": "stream",
     "text": [
      "For link 1 \n",
      "\n",
      "G = \n",
      " \n",
      "          0.9 s + 0.05\n",
      "--------------------------------\n",
      "0.0702 s^3 + s^2 + 0.72 s + 0.04\n",
      "\n"
     ]
    },
    {
     "ename": "RuntimeError",
     "evalue": "module compiled against API version 0xe but this version of numpy is 0xd",
     "output_type": "error",
     "traceback": [
      "\u001b[0;31m---------------------------------------------------------------------------\u001b[0m",
      "\u001b[0;31mRuntimeError\u001b[0m                              Traceback (most recent call last)",
      "\u001b[0;31mRuntimeError\u001b[0m: module compiled against API version 0xe but this version of numpy is 0xd"
     ]
    },
    {
     "ename": "RuntimeError",
     "evalue": "module compiled against API version 0xe but this version of numpy is 0xd",
     "output_type": "error",
     "traceback": [
      "\u001b[0;31m---------------------------------------------------------------------------\u001b[0m",
      "\u001b[0;31mRuntimeError\u001b[0m                              Traceback (most recent call last)",
      "\u001b[0;31mRuntimeError\u001b[0m: module compiled against API version 0xe but this version of numpy is 0xd"
     ]
    },
    {
     "name": "stdout",
     "output_type": "stream",
     "text": [
      "For link 2 \n",
      "\n",
      "G = \n",
      " \n",
      "           0.9 s + 0.03\n",
      "----------------------------------\n",
      "0.02652 s^3 + s^2 + 0.72 s + 0.024\n",
      "\n"
     ]
    },
    {
     "ename": "RuntimeError",
     "evalue": "module compiled against API version 0xe but this version of numpy is 0xd",
     "output_type": "error",
     "traceback": [
      "\u001b[0;31m---------------------------------------------------------------------------\u001b[0m",
      "\u001b[0;31mRuntimeError\u001b[0m                              Traceback (most recent call last)",
      "\u001b[0;31mRuntimeError\u001b[0m: module compiled against API version 0xe but this version of numpy is 0xd"
     ]
    },
    {
     "ename": "RuntimeError",
     "evalue": "module compiled against API version 0xe but this version of numpy is 0xd",
     "output_type": "error",
     "traceback": [
      "\u001b[0;31m---------------------------------------------------------------------------\u001b[0m",
      "\u001b[0;31mRuntimeError\u001b[0m                              Traceback (most recent call last)",
      "\u001b[0;31mRuntimeError\u001b[0m: module compiled against API version 0xe but this version of numpy is 0xd"
     ]
    },
    {
     "name": "stdout",
     "output_type": "stream",
     "text": [
      "For link 3 \n",
      "\n",
      "G = \n",
      " \n",
      "           0.9 s + 0.03\n",
      "----------------------------------\n",
      "0.05007 s^3 + s^2 + 0.72 s + 0.024\n",
      "\n"
     ]
    },
    {
     "ename": "RuntimeError",
     "evalue": "module compiled against API version 0xe but this version of numpy is 0xd",
     "output_type": "error",
     "traceback": [
      "\u001b[0;31m---------------------------------------------------------------------------\u001b[0m",
      "\u001b[0;31mRuntimeError\u001b[0m                              Traceback (most recent call last)",
      "\u001b[0;31mRuntimeError\u001b[0m: module compiled against API version 0xe but this version of numpy is 0xd"
     ]
    },
    {
     "ename": "RuntimeError",
     "evalue": "module compiled against API version 0xe but this version of numpy is 0xd",
     "output_type": "error",
     "traceback": [
      "\u001b[0;31m---------------------------------------------------------------------------\u001b[0m",
      "\u001b[0;31mRuntimeError\u001b[0m                              Traceback (most recent call last)",
      "\u001b[0;31mRuntimeError\u001b[0m: module compiled against API version 0xe but this version of numpy is 0xd"
     ]
    },
    {
     "data": {
      "text/plain": [
       "<matplotlib.legend.Legend at 0x7ff0c8d7ae80>"
      ]
     },
     "execution_count": 13,
     "metadata": {},
     "output_type": "execute_result"
    },
    {
     "data": {
      "image/png": "[encoded data removed]",
      "text/plain": [
       "<Figure size 432x288 with 1 Axes>"
      ]
     },
     "metadata": {
      "needs_background": "light"
     },
     "output_type": "display_data"
    }
   ],
   "source": [
    "# for Link 1\n",
    "\n",
    "Jeff = 0.074 + 0.0007*D_[0,0]\n",
    "Beff = 1\n",
    "K = 0.8\n",
    "Kp = 0.9\n",
    "KI = 0.05\n",
    "s = symbols('s')\n",
    "# ohmega_s = Jeff*s**3 + Beff*s**2 + K*Kp*s + K*KI\n",
    "G = control.tf([Kp, KI], [Jeff, Beff, K*Kp, K*KI])\n",
    "print(\"For link 1 \\n\")\n",
    "print(\"G = \\n\", G)\n",
    "y,t = control.step(G)\n",
    "plt.plot(t,y, label=\"link 1\")\n",
    "plt.xlabel('Time')\n",
    "plt.title('Step Response')\n",
    "\n",
    "# for Link 2\n",
    "\n",
    "Jeff = 0.03 + 0.00064*D_[1,1]\n",
    "Beff = 1\n",
    "K = 0.8\n",
    "Kp = 0.9\n",
    "KI = 0.03\n",
    "s = symbols('s')\n",
    "# ohmega_s = Jeff*s**3 + Beff*s**2 + K*Kp*s + K*KI\n",
    "G = control.tf([Kp, KI], [Jeff, Beff, K*Kp, K*KI])\n",
    "print(\"For link 2 \\n\")\n",
    "print(\"G = \\n\", G)\n",
    "y,t = control.step(G)\n",
    "plt.plot(t,y, label=\"link 2\")\n",
    "plt.xlabel('Time')\n",
    "plt.title('Step Response')\n",
    "\n",
    "# for Link 3\n",
    "\n",
    "Jeff = 0.05 + 0.000064*D_[2,2]\n",
    "Beff = 1\n",
    "K = 0.8\n",
    "Kp = 0.9\n",
    "KI = 0.03\n",
    "s = symbols('s')\n",
    "# ohmega_s = Jeff*s**3 + Beff*s**2 + K*Kp*s + K*KI\n",
    "G = control.tf([Kp, KI], [Jeff, Beff, K*Kp, K*KI])\n",
    "print(\"For link 3 \\n\")\n",
    "print(\"G = \\n\", G)\n",
    "y,t = control.step(G)\n",
    "plt.plot(t,y, label=\"link 3\")\n",
    "plt.xlabel('Time')\n",
    "plt.title('Step Response')\n",
    "\n",
    "plt.legend()"
   ]
  },
  {
   "cell_type": "code",
   "execution_count": null,
   "id": "62067f2f",
   "metadata": {},
   "outputs": [],
   "source": []
  },
  {
   "cell_type": "markdown",
   "id": "c3922707",
   "metadata": {},
   "source": [
    "# question 3"
   ]
  },
  {
   "cell_type": "code",
   "execution_count": 14,
   "id": "d6492c17",
   "metadata": {},
   "outputs": [],
   "source": [
    "# Inputs\n",
    "n = 3                                     # Number of links\n",
    "s = 'RRP'                                 # Type of joints\n",
    "\n",
    "l1 = 10    # m\n",
    "l2 = 10    # m\n",
    "q_1 = 30    # deg.\n",
    "q_2 = 45    # deg.\n",
    "d_  =  5    # m\n",
    "m1 =  5    # kg\n",
    "m2 =  5    # kg\n",
    "m3 =  3    # kg"
   ]
  },
  {
   "cell_type": "code",
   "execution_count": 15,
   "id": "aa4a1388",
   "metadata": {},
   "outputs": [],
   "source": [
    "q1, q2, d, t = symbols('q1 q2 d t')\n",
    "\n",
    "x1 = np.array([[ (l1/2)*cos(q1) ],\n",
    "               [ (l1/2)*sin(q1) ],\n",
    "               [       0        ]])\n",
    "\n",
    "x2 = np.array([[ l1*cos(q1) + (l2/2)*cos(q1+q2) ],\n",
    "               [ l1*sin(q1) + (l2/2)*sin(q1+q2) ],\n",
    "               [                0               ]])\n",
    "\n",
    "x3 = np.array([[ l1*cos(q1) + l2*cos(q1+q2) ],\n",
    "               [ l1*sin(q1) + l2*sin(q1+q2) ],\n",
    "               [            -d/2            ]]) "
   ]
  },
  {
   "cell_type": "code",
   "execution_count": 16,
   "id": "bf3bb79a",
   "metadata": {},
   "outputs": [],
   "source": [
    "Jv1 = np.zeros((3, 3))\n",
    "Jv2 = np.zeros((3, 3))\n",
    "Jv3 = np.zeros((3, 3))\n",
    "\n",
    "p1 = []\n",
    "p2 = []\n",
    "p3 = []\n",
    "\n",
    "q_1_ = q_1*np.pi/180    # deg.\n",
    "q_2_ = q_2*np.pi/180    # deg.\n",
    "\n",
    "for i in range(len(x1)):\n",
    "    f = Derivative(x1[i][0], q1).doit()\n",
    "    f1 = lambdify(q1, f)\n",
    "    Jv1[i][0] = f1(q_1_)\n",
    "    p_1 = np.append([], [f, 0, 0])\n",
    "    p1.append(p_1)\n",
    "    \n",
    "    f = Derivative(x2[i][0], q1).doit()\n",
    "    f1 = lambdify([q1, q2], f)\n",
    "    Jv2[i][0] = f1(q_1_, q_2_)\n",
    "    \n",
    "    f_ = Derivative(x2[i][0], q2).doit()\n",
    "    f1 = lambdify([q1, q2], f_)\n",
    "    Jv2[i][1] = f1(q_1_, q_2_)\n",
    "    p_2 = np.append([], [f, f_, 0])\n",
    "    p2.append(p_2)\n",
    "    \n",
    "    f = Derivative(x3[i][0], q1).doit()\n",
    "    f1 = lambdify([q1, q2, d], f)\n",
    "    Jv3[i][0] = f1(q_1_, q_2_, d_)\n",
    "    \n",
    "    f_ = Derivative(x3[i][0], q2).doit()\n",
    "    f1 = lambdify([q1, q2, d], f_)\n",
    "    Jv3[i][1] = f1(q_1_, q_2_, d_)\n",
    "    \n",
    "    f__ = Derivative(x3[i][0], d).doit()\n",
    "    f1 = lambdify([q1, q2, d], f__)\n",
    "    Jv3[i][2] = f1(q_1_, q_2_, d_)\n",
    "    p_3 = np.append([], [f, f_, f__])\n",
    "    p3.append(p_3)\n",
    "\n",
    "p1 = np.array(p1)\n",
    "p2 = np.array(p2)\n",
    "p3 = np.array(p3)"
   ]
  },
  {
   "cell_type": "code",
   "execution_count": 17,
   "id": "35216192",
   "metadata": {},
   "outputs": [],
   "source": [
    "# w1 = q1_dot*k\n",
    "# w2 = q1_dot*k + q2_dot*k\n",
    "# w3 = q1_dot*k + q2_dot*k"
   ]
  },
  {
   "cell_type": "code",
   "execution_count": 18,
   "id": "c30dbfda",
   "metadata": {},
   "outputs": [],
   "source": [
    "a1 = np.array([[0, 0, 0],\n",
    "               [0, 0, 0],\n",
    "               [1, 0, 0]])\n",
    "\n",
    "a2 = np.array([[0, 0, 0],\n",
    "               [0, 0, 0],\n",
    "               [1, 1, 0]])\n",
    "\n",
    "a3 = np.array([[0, 0, 0],\n",
    "               [0, 0, 0],\n",
    "               [1, 1, 0]])\n",
    "\n",
    "a1 = np.dot(np.transpose(a1), a1)\n",
    "a2 = np.dot(np.transpose(a2), a2)\n",
    "a3 = np.dot(np.transpose(a3), a3)\n",
    "\n",
    "I1 = (1/3)*m1*l1\n",
    "I2 = (1/3)*m2*l2\n",
    "I3 = 0\n",
    "\n",
    "I = I1*a1 + I2*a2 + I3*a3\n",
    "\n",
    "D_ = m1*Jv1 + m2*Jv2 + m3*Jv3 + I\n",
    "D = m1*p1 + m2*p2 + m3*p3 + I"
   ]
  },
  {
   "cell_type": "code",
   "execution_count": 19,
   "id": "1524e6ca",
   "metadata": {},
   "outputs": [],
   "source": [
    "q = [q1, q2, d]\n",
    "V = -m3*g*(d/2)\n",
    "phi = Phi(V, q)"
   ]
  },
  {
   "cell_type": "code",
   "execution_count": 20,
   "id": "8be1fb7e",
   "metadata": {
    "scrolled": true
   },
   "outputs": [
    {
     "name": "stdout",
     "output_type": "stream",
     "text": [
      "T1 = \n",
      " (16.6666666666667 - 55.0*sin(q1 + q2))*Derivative(q2, (t, 2)) + (27.5*sin(q1 + q2) - 55.0*cos(q1 + q2))*Derivative(q2, t)**2 + (-52.5*cos(q1) - 27.5*cos(q1 + q2))*Derivative(q1, t)**2 + (-105.0*sin(q1) - 55.0*sin(q1 + q2) + 33.3333333333333)*Derivative(q1, (t, 2)) + (52.5*sin(q1) + 27.5*sin(q1 + q2) - 55.0*cos(q1 + q2))*Derivative(q1, t)*Derivative(q2, t) - 27.5*cos(q1 + q2)*Derivative(q1, t)*Derivative(q2, t) \n",
      "\n",
      "T2 = \n",
      " (-55.0*sin(q1 + q2) + 27.5*cos(q1 + q2))*Derivative(q1, t)*Derivative(q2, t) + (55.0*cos(q1 + q2) + 16.6666666666667)*Derivative(q2, (t, 2)) + (-105.0*sin(q1) - 55.0*sin(q1 + q2) + 27.5*cos(q1 + q2))*Derivative(q1, t)**2 + (105.0*cos(q1) + 55.0*cos(q1 + q2) + 16.6666666666667)*Derivative(q1, (t, 2)) - 27.5*sin(q1 + q2)*Derivative(q1, t)*Derivative(q2, t) - 27.5*sin(q1 + q2)*Derivative(q2, t)**2 \n",
      "\n",
      "T3 = \n",
      " -1.5*Derivative(d, (t, 2)) - 14.715\n"
     ]
    }
   ],
   "source": [
    "T1 = T(1)\n",
    "T2 = T(2)\n",
    "T3 = T(3)\n",
    "\n",
    "print(\"T1 = \\n\", T1, \"\\n\")\n",
    "print(\"T2 = \\n\", T2, \"\\n\")\n",
    "print(\"T3 = \\n\", T3)"
   ]
  },
  {
   "cell_type": "code",
   "execution_count": 21,
   "id": "49a3379c",
   "metadata": {},
   "outputs": [
    {
     "name": "stdout",
     "output_type": "stream",
     "text": [
      "For link 1 \n",
      "\n",
      "G = \n",
      " \n",
      "             0.9 s + 0.03\n",
      "---------------------------------------\n",
      "0.05373 s^3 + 0.44 s^2 + 0.72 s + 0.024\n",
      "\n"
     ]
    },
    {
     "ename": "RuntimeError",
     "evalue": "module compiled against API version 0xe but this version of numpy is 0xd",
     "output_type": "error",
     "traceback": [
      "\u001b[0;31m---------------------------------------------------------------------------\u001b[0m",
      "\u001b[0;31mRuntimeError\u001b[0m                              Traceback (most recent call last)",
      "\u001b[0;31mRuntimeError\u001b[0m: module compiled against API version 0xe but this version of numpy is 0xd"
     ]
    },
    {
     "ename": "RuntimeError",
     "evalue": "module compiled against API version 0xe but this version of numpy is 0xd",
     "output_type": "error",
     "traceback": [
      "\u001b[0;31m---------------------------------------------------------------------------\u001b[0m",
      "\u001b[0;31mRuntimeError\u001b[0m                              Traceback (most recent call last)",
      "\u001b[0;31mRuntimeError\u001b[0m: module compiled against API version 0xe but this version of numpy is 0xd"
     ]
    },
    {
     "name": "stdout",
     "output_type": "stream",
     "text": [
      "For link 2 \n",
      "\n",
      "G = \n",
      " \n",
      "             0.9 s + 0.03\n",
      "---------------------------------------\n",
      "0.01994 s^3 + 0.44 s^2 + 0.72 s + 0.024\n",
      "\n"
     ]
    },
    {
     "ename": "RuntimeError",
     "evalue": "module compiled against API version 0xe but this version of numpy is 0xd",
     "output_type": "error",
     "traceback": [
      "\u001b[0;31m---------------------------------------------------------------------------\u001b[0m",
      "\u001b[0;31mRuntimeError\u001b[0m                              Traceback (most recent call last)",
      "\u001b[0;31mRuntimeError\u001b[0m: module compiled against API version 0xe but this version of numpy is 0xd"
     ]
    },
    {
     "ename": "RuntimeError",
     "evalue": "module compiled against API version 0xe but this version of numpy is 0xd",
     "output_type": "error",
     "traceback": [
      "\u001b[0;31m---------------------------------------------------------------------------\u001b[0m",
      "\u001b[0;31mRuntimeError\u001b[0m                              Traceback (most recent call last)",
      "\u001b[0;31mRuntimeError\u001b[0m: module compiled against API version 0xe but this version of numpy is 0xd"
     ]
    },
    {
     "name": "stdout",
     "output_type": "stream",
     "text": [
      "For link 3 \n",
      "\n",
      "G = \n",
      " \n",
      "             0.9 s + 0.03\n",
      "--------------------------------------\n",
      "0.0499 s^3 + 0.44 s^2 + 0.72 s + 0.024\n",
      "\n"
     ]
    },
    {
     "ename": "RuntimeError",
     "evalue": "module compiled against API version 0xe but this version of numpy is 0xd",
     "output_type": "error",
     "traceback": [
      "\u001b[0;31m---------------------------------------------------------------------------\u001b[0m",
      "\u001b[0;31mRuntimeError\u001b[0m                              Traceback (most recent call last)",
      "\u001b[0;31mRuntimeError\u001b[0m: module compiled against API version 0xe but this version of numpy is 0xd"
     ]
    },
    {
     "ename": "RuntimeError",
     "evalue": "module compiled against API version 0xe but this version of numpy is 0xd",
     "output_type": "error",
     "traceback": [
      "\u001b[0;31m---------------------------------------------------------------------------\u001b[0m",
      "\u001b[0;31mRuntimeError\u001b[0m                              Traceback (most recent call last)",
      "\u001b[0;31mRuntimeError\u001b[0m: module compiled against API version 0xe but this version of numpy is 0xd"
     ]
    },
    {
     "data": {
      "text/plain": [
       "<matplotlib.legend.Legend at 0x7ff0aed48fa0>"
      ]
     },
     "execution_count": 21,
     "metadata": {},
     "output_type": "execute_result"
    },
    {
     "data": {
      "image/png": "[encoded data removed]",
      "text/plain": [
       "<Figure size 432x288 with 1 Axes>"
      ]
     },
     "metadata": {
      "needs_background": "light"
     },
     "output_type": "display_data"
    }
   ],
   "source": [
    "# for Link 1\n",
    "\n",
    "Jeff = 0.1 + 0.00064*D_[0,0]\n",
    "Beff = 0.44\n",
    "K = 0.8\n",
    "Kp = 0.9\n",
    "KI = 0.03\n",
    "s = symbols('s')\n",
    "# ohmega_s = Jeff*s**3 + Beff*s**2 + K*Kp*s + K*KI\n",
    "G = control.tf([Kp, KI], [Jeff, Beff, K*Kp, K*KI])\n",
    "print(\"For link 1 \\n\")\n",
    "print(\"G = \\n\", G)\n",
    "y,t = control.step(G)\n",
    "plt.plot(t,y, label=\"link 1\")\n",
    "plt.xlabel('Time')\n",
    "plt.title('Step Response')\n",
    "\n",
    "# for Link 2\n",
    "\n",
    "Jeff = 0.00016 + 0.00064*D_[1,1]\n",
    "Beff = 0.44\n",
    "K = 0.8\n",
    "Kp = 0.9\n",
    "KI = 0.03\n",
    "s = symbols('s')\n",
    "# ohmega_s = Jeff*s**3 + Beff*s**2 + K*Kp*s + K*KI\n",
    "G = control.tf([Kp, KI], [Jeff, Beff, K*Kp, K*KI])\n",
    "print(\"For link 2 \\n\")\n",
    "print(\"G = \\n\", G)\n",
    "y,t = control.step(G)\n",
    "plt.plot(t,y, label=\"link 2\")\n",
    "plt.xlabel('Time')\n",
    "plt.title('Step Response')\n",
    "\n",
    "# for Link 3\n",
    "\n",
    "Jeff = 0.05 + 0.000064*D_[2,2]\n",
    "Beff = 0.44\n",
    "K = 0.8\n",
    "Kp = 0.9\n",
    "KI = 0.03\n",
    "s = symbols('s')\n",
    "# ohmega_s = Jeff*s**3 + Beff*s**2 + K*Kp*s + K*KI\n",
    "G = control.tf([Kp, KI], [Jeff, Beff, K*Kp, K*KI])\n",
    "print(\"For link 3 \\n\")\n",
    "print(\"G = \\n\", G)\n",
    "y,t = control.step(G)\n",
    "plt.plot(t,y, label=\"link 3\")\n",
    "plt.xlabel('Time')\n",
    "plt.title('Step Response')\n",
    "\n",
    "plt.legend()"
   ]
  },
  {
   "cell_type": "code",
   "execution_count": null,
   "id": "26020305",
   "metadata": {},
   "outputs": [],
   "source": []
  },
  {
   "cell_type": "markdown",
   "id": "d031ed55",
   "metadata": {},
   "source": [
    "# question 4"
   ]
  },
  {
   "cell_type": "code",
   "execution_count": 22,
   "id": "858aaa9a",
   "metadata": {},
   "outputs": [],
   "source": [
    "# Inputs\n",
    "n = 3                                     # Number of links\n",
    "s = 'RRR'                                 # Type of joints\n",
    "\n",
    "l1 = 10    # m\n",
    "l2 = 10    # m\n",
    "l3 = 10    # m\n",
    "q_1 = 30    # deg.\n",
    "q_2 = 45    # deg.\n",
    "q_3 = 60    # deg.\n",
    "m1 =  8    # kg\n",
    "m2 =  5    # kg\n",
    "m3 =  6    # kg"
   ]
  },
  {
   "cell_type": "code",
   "execution_count": 23,
   "id": "69459084",
   "metadata": {},
   "outputs": [],
   "source": [
    "q1, q2, q3, t = symbols('q1 q2 q3 t')\n",
    "\n",
    "x1 = np.array([[   0  ],\n",
    "               [   0  ],\n",
    "               [ l1/2 ]])\n",
    "\n",
    "x2 = np.array([[ (l2/2)*cos(q2)*cos(q1) ],\n",
    "               [ (l2/2)*cos(q2)*sin(q1) ],\n",
    "               [    l1 + (l2/2)*sin(q2) ]])\n",
    "\n",
    "x3 = np.array([[ (l2*cos(q2) + (l3/2)*cos(q2+q3))*cos(q1) ],\n",
    "               [ (l2*cos(q2) + (l3/2)*cos(q2+q3))*sin(q1) ],\n",
    "               [    l1 + l2*sin(q2) + (l3/2)*sin(q2+q3)   ]])"
   ]
  },
  {
   "cell_type": "code",
   "execution_count": 24,
   "id": "bfe1f8c2",
   "metadata": {},
   "outputs": [],
   "source": [
    "Jv1 = np.zeros((3, 3))\n",
    "Jv2 = np.zeros((3, 3))\n",
    "Jv3 = np.zeros((3, 3))\n",
    "\n",
    "p1 = []\n",
    "p2 = []\n",
    "p3 = []\n",
    "\n",
    "q_1_ = q_1*np.pi/180    # deg.\n",
    "q_2_ = q_2*np.pi/180    # deg.\n",
    "q_3_ = q_3*np.pi/180    # deg.\n",
    "\n",
    "for i in range(len(x1)):\n",
    "    f = Derivative(x1[i][0], q1).doit()\n",
    "    f1 = lambdify(q1, f)\n",
    "    Jv1[i][0] = f1(q_1_)\n",
    "    p_1 = np.append([], [f, 0, 0])\n",
    "    p1.append(p_1)\n",
    "    \n",
    "    f = Derivative(x2[i][0], q1).doit()\n",
    "    f1 = lambdify([q1, q2], f)\n",
    "    Jv2[i][0] = f1(q_1_, q_2_)\n",
    "    \n",
    "    f_ = Derivative(x2[i][0], q2).doit()\n",
    "    f1 = lambdify([q1, q2], f_)\n",
    "    Jv2[i][1] = f1(q_1_, q_2_)\n",
    "    p_2 = np.append([], [f, f_, 0])\n",
    "    p2.append(p_2)\n",
    "    \n",
    "    f = Derivative(x3[i][0], q1).doit()\n",
    "    f1 = lambdify([q1, q2, q3], f)\n",
    "    Jv3[i][0] = f1(q_1_, q_2_, q_3_)\n",
    "    \n",
    "    f_ = Derivative(x3[i][0], q2).doit()\n",
    "    f1 = lambdify([q1, q2, q3], f_)\n",
    "    Jv3[i][1] = f1(q_1_, q_2_, q_3_)\n",
    "    \n",
    "    f__ = Derivative(x3[i][0], d).doit()\n",
    "    f1 = lambdify([q1, q2, q3], f__)\n",
    "    Jv3[i][2] = f1(q_1_, q_2_, q_3_)\n",
    "    p_3 = np.append([], [f, f_, f__])\n",
    "    p3.append(p_3)\n",
    "\n",
    "p1 = np.array(p1)\n",
    "p2 = np.array(p2)\n",
    "p3 = np.array(p3)"
   ]
  },
  {
   "cell_type": "code",
   "execution_count": 25,
   "id": "a0e11eee",
   "metadata": {},
   "outputs": [],
   "source": [
    "# w1 = q1_dot*k\n",
    "# w2 = q1_dot*k - q2_dot*j\n",
    "# w3 = q1_dot*k - q2_dot*j - q3_dot*j"
   ]
  },
  {
   "cell_type": "code",
   "execution_count": 26,
   "id": "80d0bbaa",
   "metadata": {},
   "outputs": [],
   "source": [
    "a1 = np.array([[0, 0, 0],\n",
    "               [0, 0, 0],\n",
    "               [1, 0, 0]])\n",
    "\n",
    "a2 = np.array([[0,  0, 0],\n",
    "               [0, -1, 0],\n",
    "               [1,  0, 0]])\n",
    "\n",
    "a3 = np.array([[0,  0,  0],\n",
    "               [0, -1, -1],\n",
    "               [1,  0,  0]])\n",
    "\n",
    "a1 = np.dot(np.transpose(a1), a1)\n",
    "a2 = np.dot(np.transpose(a2), a2)\n",
    "a3 = np.dot(np.transpose(a3), a3)\n",
    "\n",
    "I1 = (1/3)*m1*l1\n",
    "I2 = (1/3)*m2*l2\n",
    "I3 = (1/3)*m3*l3\n",
    "\n",
    "I = I1*a1 + I2*a2 + I3*a3\n",
    "\n",
    "D_ = m1*Jv1 + m2*Jv2 + m3*Jv3 + I\n",
    "D = m1*p1 + m2*p2 + m3*p3 + I"
   ]
  },
  {
   "cell_type": "code",
   "execution_count": 27,
   "id": "e3076dda",
   "metadata": {},
   "outputs": [],
   "source": [
    "q = [q1, q2, q3]\n",
    "V = m1*g*(l1/2) + m2*g*(l1 + (l2/2)*sin(q2)) + m3*g*(l1 + l2*sin(q2) + (l3/2)*sin(q2+q3))\n",
    "phi = Phi(V, q)"
   ]
  },
  {
   "cell_type": "code",
   "execution_count": 28,
   "id": "e87fdc83",
   "metadata": {},
   "outputs": [
    {
     "name": "stdout",
     "output_type": "stream",
     "text": [
      "T1 = \n",
      " (6*(-10*sin(q2) - 5.0*sin(q2 + q3))*cos(q1) - 25.0*sin(q2)*cos(q1))*Derivative(q2, (t, 2)) + (0.5*(60*sin(q2) + 30.0*sin(q2 + q3))*sin(q1) + 12.5*sin(q1)*sin(q2))*Derivative(q1, t)*Derivative(q2, t) + (0.5*(-60*cos(q2) - 30.0*cos(q2 + q3))*cos(q1) - 12.5*cos(q1)*cos(q2))*Derivative(q1, t)**2 + (-6*(10*cos(q2) + 5.0*cos(q2 + q3))*sin(q1) - 25.0*sin(q1)*cos(q2) + 63.3333333333333)*Derivative(q1, (t, 2)) + (-0.5*(-60*sin(q2) - 30.0*sin(q2 + q3))*cos(q1) + 1.0*(-60*cos(q2) - 30.0*cos(q2 + q3))*cos(q1) + 12.5*sin(q2)*cos(q1) - 25.0*cos(q1)*cos(q2))*Derivative(q2, t)**2 + (-0.5*(-60*sin(q2) - 30.0*sin(q2 + q3))*sin(q1) + 0.5*(60*sin(q2) + 30.0*sin(q2 + q3))*sin(q1) + 0.5*(60*cos(q2) + 30.0*cos(q2 + q3))*sin(q1) + 25.0*sin(q1)*sin(q2) + 12.5*sin(q1)*cos(q2))*Derivative(q1, t)*Derivative(q2, t) + 30.0*sin(q1)*sin(q2 + q3)*Derivative(q1, t)*Derivative(q3, t) - 30.0*cos(q1)*cos(q2 + q3)*Derivative(q2, t)*Derivative(q3, t) \n",
      "\n",
      "T2 = \n",
      " (0.5*(-60*sin(q2) - 30.0*sin(q2 + q3))*cos(q1) - 12.5*sin(q2)*cos(q1))*Derivative(q1, t)*Derivative(q2, t) + (0.5*(-60*cos(q2) - 30.0*cos(q2 + q3))*sin(q1) - 12.5*sin(q1)*cos(q2))*Derivative(q2, t)**2 + (6*(10*cos(q2) + 5.0*cos(q2 + q3))*cos(q1) + 25.0*cos(q1)*cos(q2))*Derivative(q1, (t, 2)) + (6*(-10*sin(q2) - 5.0*sin(q2 + q3))*sin(q1) - 25.0*sin(q1)*sin(q2) + 36.6666666666667)*Derivative(q2, (t, 2)) + (-15.0*sin(q1)*cos(q2 + q3) + 42.5*sin(q2) + 15.0*sin(q2 + q3))*Derivative(q2, t)*Derivative(q3, t) + (1.0*(-60*sin(q2) - 30.0*sin(q2 + q3))*cos(q1) - 0.5*(-60*cos(q2) - 30.0*cos(q2 + q3))*cos(q1) - 25.0*sin(q2)*cos(q1) + 12.5*cos(q1)*cos(q2))*Derivative(q1, t)*Derivative(q2, t) + (-0.5*(60*sin(q2) + 30.0*sin(q2 + q3))*sin(q1) - 1.0*(60*cos(q2) + 30.0*cos(q2 + q3))*sin(q1) - 12.5*sin(q1)*sin(q2) - 25.0*sin(q1)*cos(q2))*Derivative(q1, t)**2 - 15.0*sin(q1)*cos(q2 + q3)*Derivative(q2, t)*Derivative(q3, t) - 30.0*sin(q2 + q3)*cos(q1)*Derivative(q1, t)*Derivative(q3, t) + 833.85*cos(q2) + 294.3*cos(q2 + q3) + 20.0*Derivative(q3, (t, 2)) \n",
      "\n",
      "T3 = \n",
      " (15.0*sin(q1)*cos(q2 + q3) - 85.0*sin(q2) - 30.0*sin(q2 + q3))*Derivative(q2, t)**2 + (85.0*cos(q2) + 30.0*cos(q2 + q3) + 20.0)*Derivative(q2, (t, 2)) - 15.0*sin(q1)*sin(q2 + q3)*Derivative(q1, t)**2 + 15.0*sin(q2 + q3)*cos(q1)*Derivative(q1, t)*Derivative(q2, t) - 15.0*sin(q2 + q3)*Derivative(q2, t)*Derivative(q3, t) + 15.0*cos(q1)*cos(q2 + q3)*Derivative(q1, t)*Derivative(q2, t) + 294.3*cos(q2 + q3) + 20.0*Derivative(q3, (t, 2))\n"
     ]
    }
   ],
   "source": [
    "T1 = T(1)\n",
    "T2 = T(2)\n",
    "T3 = T(3)\n",
    "\n",
    "print(\"T1 = \\n\", T1, \"\\n\")\n",
    "print(\"T2 = \\n\", T2, \"\\n\")\n",
    "print(\"T3 = \\n\", T3)"
   ]
  },
  {
   "cell_type": "code",
   "execution_count": 29,
   "id": "460675ca",
   "metadata": {},
   "outputs": [
    {
     "name": "stdout",
     "output_type": "stream",
     "text": [
      "For link 1 \n",
      "\n",
      "G = \n",
      " \n",
      "             0.9 s + 0.03\n",
      "---------------------------------------\n",
      "0.03378 s^3 + 0.44 s^2 + 0.72 s + 0.024\n",
      "\n"
     ]
    },
    {
     "ename": "RuntimeError",
     "evalue": "module compiled against API version 0xe but this version of numpy is 0xd",
     "output_type": "error",
     "traceback": [
      "\u001b[0;31m---------------------------------------------------------------------------\u001b[0m",
      "\u001b[0;31mRuntimeError\u001b[0m                              Traceback (most recent call last)",
      "\u001b[0;31mRuntimeError\u001b[0m: module compiled against API version 0xe but this version of numpy is 0xd"
     ]
    },
    {
     "ename": "RuntimeError",
     "evalue": "module compiled against API version 0xe but this version of numpy is 0xd",
     "output_type": "error",
     "traceback": [
      "\u001b[0;31m---------------------------------------------------------------------------\u001b[0m",
      "\u001b[0;31mRuntimeError\u001b[0m                              Traceback (most recent call last)",
      "\u001b[0;31mRuntimeError\u001b[0m: module compiled against API version 0xe but this version of numpy is 0xd"
     ]
    },
    {
     "name": "stdout",
     "output_type": "stream",
     "text": [
      "For link 2 \n",
      "\n",
      "G = \n",
      " \n",
      "             0.9 s + 0.03\n",
      "---------------------------------------\n",
      "0.06496 s^3 + 0.44 s^2 + 0.72 s + 0.024\n",
      "\n"
     ]
    },
    {
     "ename": "RuntimeError",
     "evalue": "module compiled against API version 0xe but this version of numpy is 0xd",
     "output_type": "error",
     "traceback": [
      "\u001b[0;31m---------------------------------------------------------------------------\u001b[0m",
      "\u001b[0;31mRuntimeError\u001b[0m                              Traceback (most recent call last)",
      "\u001b[0;31mRuntimeError\u001b[0m: module compiled against API version 0xe but this version of numpy is 0xd"
     ]
    },
    {
     "ename": "RuntimeError",
     "evalue": "module compiled against API version 0xe but this version of numpy is 0xd",
     "output_type": "error",
     "traceback": [
      "\u001b[0;31m---------------------------------------------------------------------------\u001b[0m",
      "\u001b[0;31mRuntimeError\u001b[0m                              Traceback (most recent call last)",
      "\u001b[0;31mRuntimeError\u001b[0m: module compiled against API version 0xe but this version of numpy is 0xd"
     ]
    },
    {
     "name": "stdout",
     "output_type": "stream",
     "text": [
      "For link 3 \n",
      "\n",
      "G = \n",
      " \n",
      "             0.9 s + 0.03\n",
      "---------------------------------------\n",
      "0.05128 s^3 + 0.44 s^2 + 0.72 s + 0.024\n",
      "\n"
     ]
    },
    {
     "ename": "RuntimeError",
     "evalue": "module compiled against API version 0xe but this version of numpy is 0xd",
     "output_type": "error",
     "traceback": [
      "\u001b[0;31m---------------------------------------------------------------------------\u001b[0m",
      "\u001b[0;31mRuntimeError\u001b[0m                              Traceback (most recent call last)",
      "\u001b[0;31mRuntimeError\u001b[0m: module compiled against API version 0xe but this version of numpy is 0xd"
     ]
    },
    {
     "ename": "RuntimeError",
     "evalue": "module compiled against API version 0xe but this version of numpy is 0xd",
     "output_type": "error",
     "traceback": [
      "\u001b[0;31m---------------------------------------------------------------------------\u001b[0m",
      "\u001b[0;31mRuntimeError\u001b[0m                              Traceback (most recent call last)",
      "\u001b[0;31mRuntimeError\u001b[0m: module compiled against API version 0xe but this version of numpy is 0xd"
     ]
    },
    {
     "data": {
      "text/plain": [
       "<matplotlib.legend.Legend at 0x7ff0aeaf5e50>"
      ]
     },
     "execution_count": 29,
     "metadata": {},
     "output_type": "execute_result"
    },
    {
     "data": {
      "image/png": "[encoded data removed]",
      "text/plain": [
       "<Figure size 432x288 with 1 Axes>"
      ]
     },
     "metadata": {
      "needs_background": "light"
     },
     "output_type": "display_data"
    }
   ],
   "source": [
    "# for Link 1\n",
    "\n",
    "Jeff = 0.01 + 0.00064*D_[0,0]\n",
    "Beff = 0.44\n",
    "K = 0.8\n",
    "Kp = 0.9\n",
    "KI = 0.03\n",
    "s = symbols('s')\n",
    "# ohmega_s = Jeff*s**3 + Beff*s**2 + K*Kp*s + K*KI\n",
    "G = control.tf([Kp, KI], [Jeff, Beff, K*Kp, K*KI])\n",
    "print(\"For link 1 \\n\")\n",
    "print(\"G = \\n\", G)\n",
    "y,t = control.step(G)\n",
    "plt.plot(t,y, label=\"link 1\")\n",
    "plt.xlabel('Time')\n",
    "plt.title('Step Response')\n",
    "\n",
    "# for Link 2\n",
    "\n",
    "Jeff = 0.07 + 0.00064*D_[1,1]\n",
    "Beff = 0.44\n",
    "K = 0.8\n",
    "Kp = 0.9\n",
    "KI = 0.03\n",
    "s = symbols('s')\n",
    "# ohmega_s = Jeff*s**3 + Beff*s**2 + K*Kp*s + K*KI\n",
    "G = control.tf([Kp, KI], [Jeff, Beff, K*Kp, K*KI])\n",
    "print(\"For link 2 \\n\")\n",
    "print(\"G = \\n\", G)\n",
    "y,t = control.step(G)\n",
    "plt.plot(t,y, label=\"link 2\")\n",
    "plt.xlabel('Time')\n",
    "plt.title('Step Response')\n",
    "\n",
    "# for Link 3\n",
    "\n",
    "Jeff = 0.05 + 0.000064*D_[2,2]\n",
    "Beff = 0.44\n",
    "K = 0.8\n",
    "Kp = 0.9\n",
    "KI = 0.03\n",
    "s = symbols('s')\n",
    "# ohmega_s = Jeff*s**3 + Beff*s**2 + K*Kp*s + K*KI\n",
    "G = control.tf([Kp, KI], [Jeff, Beff, K*Kp, K*KI])\n",
    "print(\"For link 3 \\n\")\n",
    "print(\"G = \\n\", G)\n",
    "y,t = control.step(G)\n",
    "plt.plot(t,y, label=\"link 3\")\n",
    "plt.xlabel('Time')\n",
    "plt.title('Step Response')\n",
    "\n",
    "plt.legend()"
   ]
  },
  {
   "cell_type": "code",
   "execution_count": null,
   "id": "c34290c0",
   "metadata": {},
   "outputs": [],
   "source": []
  }
 ],
 "metadata": {
  "kernelspec": {
   "display_name": "Python 3",
   "language": "python",
   "name": "python3"
  },
  "language_info": {
   "codemirror_mode": {
    "name": "ipython",
    "version": 3
   },
   "file_extension": ".py",
   "mimetype": "text/x-python",
   "name": "python",
   "nbconvert_exporter": "python",
   "pygments_lexer": "ipython3",
   "version": "3.8.8"
  }
 },
 "nbformat": 4,
 "nbformat_minor": 5
}
