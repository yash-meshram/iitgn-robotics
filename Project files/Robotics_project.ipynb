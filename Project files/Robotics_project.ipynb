{
 "cells": [
  {
   "cell_type": "markdown",
   "metadata": {
    "id": "O1XOWoZ1fQOe"
   },
   "source": [
    "# Forward-kinematics"
   ]
  },
  {
   "cell_type": "code",
   "execution_count": 1,
   "metadata": {
    "id": "NB_OmhyKQdSn"
   },
   "outputs": [],
   "source": [
    "import math\n",
    "import numpy as np\n",
    "import control.matlab as control\n",
    "import matplotlib.pyplot as plt\n",
    "%matplotlib inline\n",
    "\n",
    "def deg(theta):\n",
    "    rad = (math.pi/180)*theta\n",
    "    return rad\n",
    "\n",
    "def cos(q):\n",
    "    return math.cos(deg(q))\n",
    "\n",
    "def sin(q):\n",
    "    return math.sin(deg(q))\n",
    "\n",
    "def atan(q1, q2):\n",
    "    return (180/math.pi)*math.atan(q1/q2)"
   ]
  },
  {
   "cell_type": "code",
   "execution_count": 2,
   "metadata": {
    "colab": {
     "base_uri": "https://localhost:8080/"
    },
    "id": "Qqq0AmcQcDKA",
    "outputId": "651a400e-1ddb-4e72-f162-9477e0d87d2b"
   },
   "outputs": [
    {
     "name": "stdout",
     "output_type": "stream",
     "text": [
      "P1 = [-56.5685424949238, 56.568542494923804, 5.000000000000005]\n",
      "P2 = [-64.9519052838329, 37.50000000000001, 10.000000000000005]\n",
      "P3 = [-41.21895521616802, 85.59204245072982, 2.0000000000000058]\n"
     ]
    }
   ],
   "source": [
    "# Link Parameters:    [a, alpha, d, theta]\n",
    "# For Multiple Links: [[a, alpha, d, theta]\n",
    "#                      [a, alpha, d, theta]\n",
    "#                      [a, alpha, d, theta]]\n",
    "\n",
    "def atransformation(LinkParameters):\n",
    "    a = LinkParameters[0]\n",
    "    d = LinkParameters[2]\n",
    "    alpha = LinkParameters[1]\n",
    "    theta = LinkParameters[3]\n",
    "    A = np.array([[[np.cos(theta), -np.sin(theta) * np.cos(alpha), np.sin(theta) * np.sin(alpha), a * np.cos(theta)],\n",
    "                   [np.sin(theta), np.cos(theta) * np.cos(alpha), -np.cos(theta) * np.sin(alpha), a * np.sin(theta)],\n",
    "                   [0, np.sin(alpha), np.cos(alpha), d],\n",
    "                   [0, 0, 0, 1]]])\n",
    "    return (A)\n",
    "\n",
    "def forward_kinematics_homogenous_matrix(DH):\n",
    "    A = np.identity(4)\n",
    "    n = np.shape(DH)[0]\n",
    "\n",
    "    for i in range(n):\n",
    "        Anext = atransformation(DH[i])\n",
    "        A = np.matmul(A,Anext)\n",
    "\n",
    "    return A\n",
    "\n",
    "def end_effector_coordinates(DH):\n",
    "  T= forward_kinematics_homogenous_matrix(DH)\n",
    "  p=[T[0][0][3],T[0][1][3],T[0][2][3]]\n",
    "\n",
    "  return p\n",
    "\n",
    "# LinkParameters = [[0,0,l1,theta],\n",
    "                  # [0,-np.pi/2,-(l3-d1),0],\n",
    "                  # [0,0,l2+d2,0]]\n",
    "\n",
    "# Example 1\n",
    "# l1=70 l2=60 l3=85 theta=np.pi/4 d1=20 d2=20\n",
    "\n",
    "LinkParameters1 = [[0,0,70,np.pi/4],\n",
    "                  [0,-np.pi/2,-(85-20),0],\n",
    "                  [0,0,60+20,0]]\n",
    "\n",
    "P1 = end_effector_coordinates(LinkParameters1)\n",
    "print(\"P1 =\",P1)\n",
    "\n",
    "# Example 2\n",
    "# l1=70 l2=60 l3=85 theta=np.pi/3 d1=25 d2=15\n",
    "\n",
    "LinkParameters2 = [[0,0,70,np.pi/3],\n",
    "                  [0,-np.pi/2,-(85-25),0],\n",
    "                  [0,0,60+15,0]]\n",
    "\n",
    "P2 = end_effector_coordinates(LinkParameters2)\n",
    "\n",
    "print(\"P2 =\",P2)\n",
    "\n",
    "# Example 3\n",
    "# l1=70 l2=60 l3=85 theta=np.pi/7 d1=17 d2=35\n",
    "\n",
    "LinkParameters3 = [[0,0,70,np.pi/7],\n",
    "                  [0,-np.pi/2,-(85-17),0],\n",
    "                  [0,0,60+35,0]]\n",
    "\n",
    "P3 = end_effector_coordinates(LinkParameters3)\n",
    "\n",
    "print(\"P3 =\",P3)"
   ]
  },
  {
   "cell_type": "code",
   "execution_count": null,
   "metadata": {
    "id": "N390QWp5gvPL"
   },
   "outputs": [],
   "source": []
  },
  {
   "cell_type": "markdown",
   "metadata": {
    "id": "hd-viqwwRhzY"
   },
   "source": [
    "# Inverse kinematics-velocity"
   ]
  },
  {
   "cell_type": "code",
   "execution_count": 3,
   "metadata": {
    "colab": {
     "base_uri": "https://localhost:8080/"
    },
    "id": "JErBYCi2QfX_",
    "outputId": "ffa30065-8ad3-4dfe-8d34-ad3fde1e870f"
   },
   "outputs": [
    {
     "name": "stdout",
     "output_type": "stream",
     "text": [
      "q̇ =\n",
      "[[-0.0844689 ]\n",
      " [10.        ]\n",
      " [ 7.07106781]]\n"
     ]
    }
   ],
   "source": [
    "def R_(ap, teta):\n",
    "    R = np.array([[cos(teta), -sin(teta)*cos(ap),  sin(teta)*sin(ap)],\n",
    "                  [sin(teta),  cos(teta)*cos(ap), -cos(teta)*sin(ap)],\n",
    "                  [        0,            sin(ap),            cos(ap)]])\n",
    "    return R\n",
    "def P_(a, d, teta):\n",
    "    P = np.array([[a*cos(teta)],\n",
    "                  [a*sin(teta)],\n",
    "                  [d]])\n",
    "    return P\n",
    "\n",
    "def inverse_velocity(n, s, DH, X_dot):\n",
    "    To = np.identity(4, dtype = float)\n",
    "    extra_row = np.array([0, 0, 0, 1])\n",
    "\n",
    "    for i in range(n):\n",
    "        a_i = DH[i][0]\n",
    "        ap_i = DH[i][1]\n",
    "        d_i = DH[i][2]\n",
    "        teta_i = DH[i][3]\n",
    "\n",
    "        R_i = R_(ap_i, teta_i)\n",
    "        P_i = P_(a_i, d_i, teta_i)\n",
    "        A_i = np.vstack((np.concatenate((R_i, P_i), axis=1), extra_row))\n",
    "        To = np.dot(To, A_i)\n",
    "\n",
    "    Pn = np.array([[To[0][3]],\n",
    "                [To[1][3]],\n",
    "                [To[2][3]]])\n",
    "\n",
    "\n",
    "    T = np.identity(4, dtype = float)\n",
    "    z = np.array([[0],\n",
    "                [0],\n",
    "                [1]])\n",
    "    Pn = np.transpose(Pn)\n",
    "\n",
    "    J = np.zeros([6,1])\n",
    "    if s[0] == 'R':\n",
    "        J0 = np.concatenate((np.cross(np.transpose(z), Pn), np.transpose(z)), axis=1)\n",
    "    elif s[0] == 'P':\n",
    "        J0 = np.concatenate((np.transpose(z), np.zeros([1,3])), axis=1)\n",
    "    J = np.concatenate((J, np.transpose(J0)), axis=1)\n",
    "    J = np.delete(J, 0, axis=1)\n",
    "\n",
    "    for i in range(n-1):\n",
    "        a_i = DH[i][0]\n",
    "        ap_i = DH[i][1]\n",
    "        d_i = DH[i][2]\n",
    "        teta_i = DH[i][3]\n",
    "\n",
    "        R_i = R_(ap_i, teta_i)\n",
    "        P_i = P_(a_i, d_i, teta_i)\n",
    "        A_i = np.vstack((np.concatenate((R_i, P_i), axis=1), extra_row))\n",
    "        T = np.dot(T, A_i)\n",
    "        R = T[:3,:3]\n",
    "        P = np.transpose(T[:3,3])\n",
    "\n",
    "        Z_i = np.transpose(np.dot(R, z))\n",
    "        if s[i+1] == 'R':\n",
    "            r1 = np.cross(Z_i, (Pn - P))\n",
    "            r2 = Z_i\n",
    "        elif s[i+1] == 'P':\n",
    "            r1 = Z_i\n",
    "            r2 = np.zeros([1,3])\n",
    "        Ji = np.concatenate((r1, r2), axis = 1)\n",
    "        Ji = np.transpose(Ji)\n",
    "        J = np.concatenate((J, Ji), axis = 1)\n",
    "\n",
    "    J_inv = np.linalg.pinv(J)\n",
    "    q_dot = np.dot(J_inv, X_dot)\n",
    "    print('q\\u0307 =')\n",
    "    print(q_dot)\n",
    "\n",
    "# Inputs\n",
    "n = 3                                     # Number of links\n",
    "s = 'RPP'                                 # Type of joints\n",
    "DH = np.array([[0, 0, 70, 45],            # DH Parameters (EACH ROW IN ORDER [ai, alpha_i, di, theta_i])\n",
    "               [0, -90, -65, 0],           \n",
    "               [0, 0, 80, 0]])\n",
    "X_dot = np.array([[0], [10], [10], [0], [0], [25]])\n",
    "\n",
    "inverse_velocity(n, s, DH, X_dot)\n"
   ]
  },
  {
   "cell_type": "code",
   "execution_count": null,
   "metadata": {
    "id": "-FBd5lJFgtwm"
   },
   "outputs": [],
   "source": []
  },
  {
   "cell_type": "markdown",
   "metadata": {
    "id": "1bTMsjKG7okR"
   },
   "source": [
    "# Inverse Kinematics"
   ]
  },
  {
   "cell_type": "code",
   "execution_count": 4,
   "metadata": {
    "colab": {
     "base_uri": "https://localhost:8080/"
    },
    "id": "SdBH_HUF7qX7",
    "outputId": "65a67512-c6d8-4c38-bf95-daf2db9af326"
   },
   "outputs": [
    {
     "name": "stdout",
     "output_type": "stream",
     "text": [
      "θ =  25.71  deg.\n",
      "\n",
      "d1 =  17.0  cm\n",
      "\n",
      "d2 =  35.0  cm\n"
     ]
    }
   ],
   "source": [
    "def inverse_kinematics(x, y, z):\n",
    "    theta = -atan(x,y)\n",
    "    d1 = z - l1 + l3\n",
    "    d2 = y/cos(theta) - l2\n",
    "\n",
    "    return [theta, d1, d2]\n",
    "\n",
    "    \n",
    "\n",
    "# Inputs\n",
    "(x, y, z) = (-41.21895521616802, \n",
    "             85.59204245072982, \n",
    "             2.0000000000000058)\n",
    "l1 = 70\n",
    "l2 = 60\n",
    "l3 = 85\n",
    "\n",
    "[theta, d1, d2] = inverse_kinematics(x, y, z)\n",
    "\n",
    "print(\"\\u03B8 = \", round(theta, 2), \" deg.\\n\")\n",
    "print(\"d1 = \", d1, \" cm\\n\")\n",
    "print(\"d2 = \", d2, \" cm\")"
   ]
  },
  {
   "cell_type": "code",
   "execution_count": null,
   "metadata": {
    "id": "kJeklxqH8haf"
   },
   "outputs": [],
   "source": []
  },
  {
   "cell_type": "markdown",
   "metadata": {
    "id": "lcnpJsnVg1cH"
   },
   "source": [
    "# Robot Dynamics"
   ]
  },
  {
   "cell_type": "code",
   "execution_count": 5,
   "metadata": {
    "colab": {
     "base_uri": "https://localhost:8080/"
    },
    "id": "whV1bxdBIv2W",
    "outputId": "4730bcb6-b8fe-4666-a0e4-3bd3e456814d"
   },
   "outputs": [
    {
     "name": "stdout",
     "output_type": "stream",
     "text": [
      "D_q = [[3000.0*cos(q2) + 4166.66666666667, 500.0*cos(q2) + 1000.0*cos(2*q1 + q2) + 1000.0*cos(2*q1 + 2*q2) + 583.333333333333, 0], [500.0*cos(q2) + 1000.0*cos(2*q1 + q2) + 1000.0*cos(2*q1 + 2*q2) + 583.333333333333, 1583.33333333333, 0], [0, 0, 2.5]] \n",
      "\n",
      "T( 1 ) = -3000.0*q1d*q2d*sin(q2) + q1dd*(3000.0*cos(q2) + 4166.66666666667) - q2d**2*(500.0*sin(q2) + 1000.0*sin(2*q1 + q2) + 2000.0*sin(2*q1 + 2*q2)) + q2dd*(500.0*cos(q2) + 1000.0*cos(2*q1 + q2) + 1000.0*cos(2*q1 + 2*q2) + 583.333333333333) + 373*cos(q1) \n",
      "\n",
      "T( 2 ) = 1500.0*q1d**2*sin(q2) - 2000.0*q1d**2*sin(2*q1 + q2) - 2000.0*q1d**2*sin(2*q1 + 2*q2) - 3000.0*q1d*q2d*sin(q2) + 3500.0*q1dd*cos(q2) + 1000.0*q1dd*cos(2*q1 + q2) + 1000.0*q1dd*cos(2*q1 + 2*q2) + 4750.0*q1dd - 500.0*q2d**2*sin(q2) - 1000.0*q2d**2*sin(2*q1 + q2) - 2000.0*q2d**2*sin(2*q1 + 2*q2) + 500.0*q2dd*cos(q2) + 1000.0*q2dd*cos(2*q1 + q2) + 1000.0*q2dd*cos(2*q1 + 2*q2) + 2166.66666666667*q2dd \n",
      "\n",
      "T( 3 ) = 1500.0*q1d**2*sin(q2) - 2000.0*q1d**2*sin(2*q1 + q2) - 2000.0*q1d**2*sin(2*q1 + 2*q2) - 3000.0*q1d*q2d*sin(q2) + 3500.0*q1dd*cos(q2) + 1000.0*q1dd*cos(2*q1 + q2) + 1000.0*q1dd*cos(2*q1 + 2*q2) + 4750.0*q1dd - 500.0*q2d**2*sin(q2) - 1000.0*q2d**2*sin(2*q1 + q2) - 2000.0*q2d**2*sin(2*q1 + 2*q2) + 500.0*q2dd*cos(q2) + 1000.0*q2dd*cos(2*q1 + q2) + 1000.0*q2dd*cos(2*q1 + 2*q2) + 2166.66666666667*q2dd + 2.5*q3dd \n",
      "\n"
     ]
    }
   ],
   "source": [
    "from sympy import *\n",
    "\n",
    "l1=10\n",
    "l2=10\n",
    "d=10\n",
    "m1=10\n",
    "m2=10\n",
    "m3=10\n",
    "I1 = m1*(l1**2)/3\n",
    "I2 = m2*(l2**2)/3\n",
    "\n",
    "q1, q2, q3=symbols(\"q1 q2 q3\")\n",
    "\n",
    "J_vc1 = np.array([[(-l1/2)*sin(q1), 0, 0],[(l1/2)*cos(q1), 0, 0],[0, 0, 0]])\n",
    "J_vc2 = np.array([[-l1*sin(q1)-(l2/2)*sin(q1+q2), (-l2/2)*sin(q1+q2), 0],[l1*cos(q1)+(l2/2)*cos(q1+q2), (l2/2)*cos(q1+q2), 0],[0, 0, 0]])\n",
    "J_vc3 = np.array([[-l1*sin(q1)-l2*sin(q1+q2), l2*sin(q1+q2), 0],[l1*cos(q1)+l2*cos(q1+q2), l2*cos(q1+q2), 0],[0, 0, -1/2]])\n",
    "\n",
    "d1=m1*np.matmul(np.transpose(J_vc1), J_vc1)\n",
    "d2=m2*np.matmul(np.transpose(J_vc2), J_vc2)\n",
    "d3=m3*np.matmul(np.transpose(J_vc3), J_vc3)\n",
    "\n",
    "d_sum=np.add(np.add(d1,d2),d3)\n",
    "I_sum=np.array([[I1+I2, I2, 0],[I2, I2, 0],[0, 0, 0]])\n",
    "D_q= simplify(np.add(d_sum,I_sum))\n",
    "print(\"D_q =\",D_q,\"\\n\")\n",
    "\n",
    "q=np.array([q1,q2,q3])\n",
    "\n",
    "c = [[[0,0,0],[0,0,0],[0,0,0]],[[0,0,0],[0,0,0],[0,0,0]],[[0,0,0],[0,0,0],[0,0,0]]]\n",
    "\n",
    "# Calculating Christoffer Symbols\n",
    "for k in range(0,3):\n",
    "  for j in range(0,3):\n",
    "    for i in range(0,3):\n",
    "      c[i][j][k] = 0.5 * (diff(D_q[k][j], q[i]) + diff(D_q[k][i], q[j]) - diff(D_q[i][j], q[k]))\n",
    "    \n",
    "V_q = 13 * sin(q[0]) + 45 * (5 * sin(q[0]) + 3 * sin(q[0]))\n",
    "\n",
    "Phi = [0] * 3\n",
    "ct = 0\n",
    "d=0\n",
    "T = [0] * 3\n",
    "q1d, q1dd, q2d, q2dd, q3d,q3dd = symbols(\"q1d q1dd q2d q2dd q3d q3dd\")\n",
    "qad = np.array([q1d, q2d, q3d])\n",
    "qadd = np.array([q1dd, q2dd, q3dd])\n",
    "for k in range(3): #corresponds to each link\n",
    "      Phi[k] = diff(V_q, q[k])\n",
    "      for j in range(3):\n",
    "        d = d + D_q[k][j] * qadd[j] \n",
    "        for i in range(3):\n",
    "          # print(\"i =\",i,c[i][j][k])\n",
    "          ct = ct + c[i][j][k] * qad[i] * qad[j]\n",
    "          # print(\"ct =\", ct)\n",
    "      T[k] = d + ct + Phi[k]\n",
    "      print(\"T(\",k+1,\") =\",simplify(T[k]),\"\\n\")"
   ]
  },
  {
   "cell_type": "code",
   "execution_count": null,
   "metadata": {
    "id": "vbULxguUeRht"
   },
   "outputs": [],
   "source": []
  },
  {
   "cell_type": "markdown",
   "metadata": {
    "id": "V0sDH3KSg6rk"
   },
   "source": [
    "# Independent joint control (PI control)"
   ]
  },
  {
   "cell_type": "code",
   "execution_count": 6,
   "metadata": {
    "colab": {
     "base_uri": "https://localhost:8080/",
     "height": 721
    },
    "id": "-3q3UYO4e8T5",
    "outputId": "ddac9083-6c37-4f67-b39c-0e8771b8e549"
   },
   "outputs": [
    {
     "name": "stdout",
     "output_type": "stream",
     "text": [
      "For link 1 \n",
      "\n",
      "G = \n",
      " \n",
      "          64.25 s + 1.286\n",
      "------------------------------------\n",
      "0.07494 s^3 + s^2 + 2.525 s + 0.0505\n",
      "\n",
      "For link 2 \n",
      "\n",
      "G = \n",
      " \n",
      "      50.97 s + 0.51\n",
      "---------------------------\n",
      "0.03 s^3 + s^2 + 3 s + 0.03\n",
      "\n",
      "For link 3 \n",
      "\n",
      "G = \n",
      " \n",
      "       105 s + 1.05\n",
      "---------------------------\n",
      "0.05 s^3 + s^2 + 3 s + 0.03\n",
      "\n"
     ]
    },
    {
     "data": {
      "image/png": "[encoded data removed]",
      "text/plain": [
       "<Figure size 432x288 with 1 Axes>"
      ]
     },
     "metadata": {
      "needs_background": "light"
     },
     "output_type": "display_data"
    }
   ],
   "source": [
    "# Inputs\n",
    "(x, y, z) = (-41.21895521616802, \n",
    "             85.59204245072982, \n",
    "             2.0000000000000058)\n",
    "l1 = 70\n",
    "l2 = 60\n",
    "l3 = 85\n",
    "# plt.figure(figsize=(10,5))\n",
    "g = 9.81\n",
    "def deg(theta):\n",
    "    rad = (math.pi/180)*theta\n",
    "    return rad\n",
    "def cos(q):\n",
    "    return math.cos(deg(q))\n",
    "def sin(q):\n",
    "    return math.sin(deg(q))\n",
    "def atan(q1, q2):\n",
    "    return (180/math.pi)*math.atan(q1/q2)\n",
    "[theta, d1, d2] = inverse_kinematics(x, y, z)\n",
    "\n",
    "# for Link 1\n",
    "\n",
    "Jeff = 0.074945\n",
    "Beff = 1\n",
    "K = 1.01\n",
    "Kp = 2.5\n",
    "KI = 0.05\n",
    "r = 0.00032\n",
    "d = m1*g\n",
    "s = symbols('s')\n",
    "# ohmega_s = Jeff*s**3 + Beff*s**2 + K*Kp*s + K*KI\n",
    "G = control.tf([Kp*theta-r*d, KI*theta], [Jeff, Beff, K*Kp, K*KI])\n",
    "print(\"For link 1 \\n\")\n",
    "print(\"G = \\n\", G)\n",
    "# print(q_1_)\n",
    "y,t = control.step(G)\n",
    "plt.plot(t,y, label=\"link 1\")\n",
    "plt.xlabel('Time')\n",
    "plt.title('Step Response')\n",
    "# plt.plot(t, [q_1_ for i in t])\n",
    "\n",
    "# for Link 2\n",
    "\n",
    "Jeff = 0.03\n",
    "Beff = 1\n",
    "K = 1\n",
    "Kp = 3\n",
    "KI = 0.03\n",
    "r = 0.00032\n",
    "d = m2*g\n",
    "s = symbols('s')\n",
    "# ohmega_s = Jeff*s**3 + Beff*s**2 + K*Kp*s + K*KI\n",
    "G = control.tf([Kp*d1-r*d, KI*d1], [Jeff, Beff, K*Kp, K*KI])\n",
    "print(\"For link 2 \\n\")\n",
    "print(\"G = \\n\", G)\n",
    "# print(d_1)\n",
    "y,t = control.step(G)\n",
    "plt.plot(t,y, label=\"link 2\")\n",
    "plt.xlabel('Time')\n",
    "plt.title('Step Response')\n",
    "# plt.plot(t, [d_1 for i in t])\n",
    "\n",
    "# for Link 3\n",
    "\n",
    "Jeff = 0.05\n",
    "Beff = 1\n",
    "K = 1\n",
    "Kp = 3\n",
    "KI = 0.03\n",
    "r = 0.00032\n",
    "d = m2*g\n",
    "s = symbols('s')\n",
    "# ohmega_s = Jeff*s**3 + Beff*s**2 + K*Kp*s + K*KI\n",
    "G = control.tf([Kp*d2-r*d, KI*d2], [Jeff, Beff, K*Kp, K*KI])\n",
    "print(\"For link 3 \\n\")\n",
    "print(\"G = \\n\", G)\n",
    "# print(d_2)\n",
    "y,t = control.step(G)\n",
    "plt.plot(t,y, label=\"link 3\")\n",
    "plt.xlabel('Time (s)')\n",
    "plt.ylabel('Step response')\n",
    "plt.title('PI control load feedback', fontweight = 'bold')\n",
    "\n",
    "# plt.plot(t, [d_2 for i in t])\n",
    "# plt.grid(True)\n",
    "plt.legend()\n",
    "plt.show()"
   ]
  },
  {
   "cell_type": "code",
   "execution_count": null,
   "metadata": {},
   "outputs": [],
   "source": []
  }
 ],
 "metadata": {
  "colab": {
   "collapsed_sections": [],
   "name": "Robotics_project.ipynb",
   "provenance": []
  },
  "kernelspec": {
   "display_name": "Python 3",
   "language": "python",
   "name": "python3"
  },
  "language_info": {
   "codemirror_mode": {
    "name": "ipython",
    "version": 3
   },
   "file_extension": ".py",
   "mimetype": "text/x-python",
   "name": "python",
   "nbconvert_exporter": "python",
   "pygments_lexer": "ipython3",
   "version": "3.8.8"
  }
 },
 "nbformat": 4,
 "nbformat_minor": 1
}
